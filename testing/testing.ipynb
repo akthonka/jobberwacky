{
 "cells": [
  {
   "cell_type": "code",
   "execution_count": 20,
   "metadata": {},
   "outputs": [
    {
     "name": "stdout",
     "output_type": "stream",
     "text": [
      "<csv.DictReader object at 0x1043ca250>\n"
     ]
    },
    {
     "data": {
      "text/plain": [
       "{'FirstName': 'Art',\n",
       " 'LastName': 'Vandelay',\n",
       " 'Email': 'importer@exporter.com',\n",
       " 'Phone': '+41795555555',\n",
       " 'Street': '129 West 81st Street',\n",
       " 'City': 'New York City',\n",
       " 'State': 'New York',\n",
       " 'Zipcode': 'NY 10024',\n",
       " 'Linkedin': 'linkedin.com/in/artvandelay'}"
      ]
     },
     "execution_count": 20,
     "metadata": {},
     "output_type": "execute_result"
    }
   ],
   "source": [
    "import csv, os\n",
    "\n",
    "\n",
    "def read_csv_data(file_path):\n",
    "    with open(file_path, mode=\"r\", encoding=\"utf-8\") as file:\n",
    "        reader = csv.DictReader(file)\n",
    "        print(reader)\n",
    "        return {row[\"Name\"]: row[\"Value\"] for row in reader}\n",
    "\n",
    "\n",
    "input_dir = os.path.join(os.getcwd(), \"../data\", \"input\", \"input_fields.csv\")\n",
    "foo = read_csv_data(input_dir)\n",
    "foo"
   ]
  },
  {
   "cell_type": "code",
   "execution_count": 19,
   "metadata": {},
   "outputs": [
    {
     "name": "stdout",
     "output_type": "stream",
     "text": [
      "FirstName Art\n",
      "LastName Vandelay\n",
      "Email importer@exporter.com\n",
      "Phone +41795555555\n",
      "Street 129 West 81st Street\n",
      "City New York City\n",
      "State New York\n",
      "Zipcode NY 10024\n",
      "Linkedin linkedin.com/in/artvandelay\n"
     ]
    }
   ],
   "source": [
    "for key, value in foo.items():\n",
    "    print(key, value)"
   ]
  },
  {
   "cell_type": "code",
   "execution_count": 27,
   "metadata": {},
   "outputs": [
    {
     "data": {
      "text/plain": [
       "{'name': 'FirstName',\n",
       " 'surname': 'LastName',\n",
       " 'zip': 'Zipcode',\n",
       " 'mobile': 'Phone',\n",
       " 'street': 'Street',\n",
       " 'state': 'State',\n",
       " 'firstname': 'FirstName',\n",
       " 'lastname': 'LastName',\n",
       " 'zipcode': 'Zipcode',\n",
       " 'phone': 'Phone',\n",
       " 'address': 'Street',\n",
       " 'county': 'State',\n",
       " 'givenname': 'FirstName',\n",
       " 'familiyname': 'LastName',\n",
       " 'postcode': 'Zipcode',\n",
       " 'phonenumber': 'Phone'}"
      ]
     },
     "execution_count": 27,
     "metadata": {},
     "output_type": "execute_result"
    }
   ],
   "source": [
    "field_mapping = {}\n",
    "input_dir = os.path.join(os.getcwd(), \"../config\", \"field_alternatives.csv\")\n",
    "with open(input_dir, mode=\"r\", encoding=\"utf-8\") as file:\n",
    "    reader = csv.DictReader(file)\n",
    "    for row in reader:\n",
    "        for key, value in row.items():\n",
    "            if value:  # Only add non-empty alternatives\n",
    "                field_mapping[value.lower()] = key\n",
    "\n",
    "field_mapping"
   ]
  }
 ],
 "metadata": {
  "kernelspec": {
   "display_name": ".venv",
   "language": "python",
   "name": "python3"
  },
  "language_info": {
   "codemirror_mode": {
    "name": "ipython",
    "version": 3
   },
   "file_extension": ".py",
   "mimetype": "text/x-python",
   "name": "python",
   "nbconvert_exporter": "python",
   "pygments_lexer": "ipython3",
   "version": "3.9.18"
  }
 },
 "nbformat": 4,
 "nbformat_minor": 2
}
