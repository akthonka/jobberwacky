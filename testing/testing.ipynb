{
 "cells": [
  {
   "cell_type": "code",
   "execution_count": 5,
   "metadata": {},
   "outputs": [
    {
     "data": {
      "text/plain": [
       "{'Given Name(s)*': 'Art',\n",
       " 'Family Name*': 'Vandelay',\n",
       " 'email': 'importer@exporter.com',\n",
       " 'phone': '+41795555555',\n",
       " 'street': '129 West 81st Street',\n",
       " 'city': 'New York City',\n",
       " 'state': 'New York',\n",
       " 'zipcode': 'NY 10024',\n",
       " 'linkedin': 'linkedin.com/in/artvandelay'}"
      ]
     },
     "execution_count": 5,
     "metadata": {},
     "output_type": "execute_result"
    }
   ],
   "source": [
    "import csv, os\n",
    "\n",
    "\n",
    "def read_csv_data(file_path):\n",
    "    with open(file_path, mode=\"r\", encoding=\"utf-8\") as file:\n",
    "        reader = csv.DictReader(file)\n",
    "        return {row[\"Name\"]: row[\"Value\"] for row in reader}\n",
    "\n",
    "\n",
    "input_dir = os.path.join(os.getcwd(), \"../data\", \"input\", \"input_fields.csv\")\n",
    "foo = read_csv_data(input_dir)\n",
    "foo"
   ]
  },
  {
   "cell_type": "code",
   "execution_count": 32,
   "metadata": {},
   "outputs": [
    {
     "name": "stdout",
     "output_type": "stream",
     "text": [
      "Given Name(s)* Art\n",
      "Family Name* Vandelay\n",
      "email importer@exporter.com\n",
      "phone +41795555555\n",
      "street 129 West 81st Street\n",
      "city New York City\n",
      "state New York\n",
      "zipcode NY 10024\n",
      "linkedin linkedin.com/in/artvandelay\n"
     ]
    }
   ],
   "source": [
    "for key, value in foo.items():\n",
    "    print(key, value)"
   ]
  }
 ],
 "metadata": {
  "kernelspec": {
   "display_name": ".venv",
   "language": "python",
   "name": "python3"
  },
  "language_info": {
   "codemirror_mode": {
    "name": "ipython",
    "version": 3
   },
   "file_extension": ".py",
   "mimetype": "text/x-python",
   "name": "python",
   "nbconvert_exporter": "python",
   "pygments_lexer": "ipython3",
   "version": "3.9.18"
  }
 },
 "nbformat": 4,
 "nbformat_minor": 2
}
